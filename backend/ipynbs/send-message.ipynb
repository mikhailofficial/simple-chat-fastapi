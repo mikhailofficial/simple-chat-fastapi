{
 "cells": [
  {
   "cell_type": "code",
   "execution_count": 15,
   "metadata": {},
   "outputs": [
    {
     "name": "stdout",
     "output_type": "stream",
     "text": [
      "Ошибка при отправке сообщения: 400 - {\"detail\":\"500: 401: Invalid token\"}\n"
     ]
    }
   ],
   "source": [
    "import requests\n",
    "\n",
    "\n",
    "# URL вашего API\n",
    "url = 'http://localhost:8000/api/send-message'  # измените на ваш актуальный URL\n",
    "\n",
    "# Данные, которые мы будем отправлять\n",
    "message_data = {\n",
    "    \"content\": \"Hello, world!\",\n",
    "}\n",
    "\n",
    "# Отправка POST-запроса\n",
    "try:\n",
    "    response = requests.post(url, json=message_data)\n",
    "\n",
    "    # Проверка статуса ответа\n",
    "    if response.status_code == 200:\n",
    "        print(\"Сообщение успешно отправлено!\")\n",
    "        print(\"Ответ от сервера:\", response.json())\n",
    "    else:\n",
    "        print(f\"Ошибка при отправке сообщения: {response.status_code} - {response.text}\")\n",
    "except Exception as e:\n",
    "    print(\"Произошла ошибка:\", str(e))"
   ]
  },
  {
   "cell_type": "code",
   "execution_count": null,
   "metadata": {},
   "outputs": [],
   "source": []
  }
 ],
 "metadata": {
  "kernelspec": {
   "display_name": "Python 3",
   "language": "python",
   "name": "python3"
  },
  "language_info": {
   "codemirror_mode": {
    "name": "ipython",
    "version": 3
   },
   "file_extension": ".py",
   "mimetype": "text/x-python",
   "name": "python",
   "nbconvert_exporter": "python",
   "pygments_lexer": "ipython3",
   "version": "3.13.5"
  }
 },
 "nbformat": 4,
 "nbformat_minor": 2
}
